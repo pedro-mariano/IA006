{
 "cells": [
  {
   "cell_type": "code",
   "execution_count": 1,
   "metadata": {},
   "outputs": [],
   "source": [
    "import numpy as np\n",
    "from collections import Counter\n",
    "from scipy.io import arff\n",
    "import pandas as pd\n",
    "from skmultilearn.dataset import load_dataset\n",
    "from skmultilearn.dataset import available_data_sets\n",
    "from skmultilearn.problem_transform import LabelPowerset\n",
    "from sklearn.neighbors import KNeighborsClassifier\n",
    "import time\n",
    "import sklearn.metrics as metrics\n",
    "from skmultilearn.adapt import MLkNN\n",
    "from sklearn.model_selection import GridSearchCV"
   ]
  },
  {
   "cell_type": "code",
   "execution_count": 10,
   "metadata": {},
   "outputs": [
    {
     "name": "stdout",
     "output_type": "stream",
     "text": [
      "yeast:train - exists, not redownloading\n",
      "yeast:test - exists, not redownloading\n"
     ]
    }
   ],
   "source": [
    "# Importando os dados\n",
    "X, y, feature_names, label_names = load_dataset('yeast', 'train')\n",
    "Xt, yt, feature_names, label_names = load_dataset('yeast', 'test')"
   ]
  },
  {
   "cell_type": "code",
   "execution_count": 3,
   "metadata": {},
   "outputs": [
    {
     "name": "stdout",
     "output_type": "stream",
     "text": [
      "('training time taken: ', 0.0, 'seconds')\n"
     ]
    }
   ],
   "source": [
    "# Transformação do problema - Label Powerset + k-nearest neighbors\n",
    "classifier = LabelPowerset(\n",
    "    classifier = KNeighborsClassifier(n_neighbors=12),\n",
    "    require_dense = True\n",
    ")\n",
    "\n",
    "start=time.time()\n",
    "classifier.fit(X, y)\n",
    "print('training time taken: ',round(time.time()-start,0),'seconds')"
   ]
  },
  {
   "cell_type": "code",
   "execution_count": 4,
   "metadata": {},
   "outputs": [
    {
     "name": "stdout",
     "output_type": "stream",
     "text": [
      "('prediction time taken: ', 0.0, 'seconds')\n"
     ]
    }
   ],
   "source": [
    "# Aplicando no conjunto de teste\n",
    "start=time.time()\n",
    "y_hat=classifier.predict(Xt)\n",
    "print('prediction time taken: ',round(time.time()-start,0),'seconds')"
   ]
  },
  {
   "cell_type": "code",
   "execution_count": 5,
   "metadata": {},
   "outputs": [
    {
     "name": "stdout",
     "output_type": "stream",
     "text": [
      "('Label Powerset F1-score:', 0.621)\n",
      "('Label Powerset Hamming Loss:', 0.219)\n"
     ]
    }
   ],
   "source": [
    "# Avaliando o método\n",
    "lp_f1=metrics.f1_score(yt, y_hat, average='micro')\n",
    "lp_hamm=metrics.hamming_loss(yt,y_hat)\n",
    "print('Label Powerset F1-score:',round(lp_f1,3))\n",
    "print('Label Powerset Hamming Loss:',round(lp_hamm,3))"
   ]
  },
  {
   "cell_type": "code",
   "execution_count": 6,
   "metadata": {},
   "outputs": [
    {
     "name": "stderr",
     "output_type": "stream",
     "text": [
      "/usr/local/lib/python2.7/dist-packages/sklearn/neighbors/base.py:452: FutureWarning: arrays to stack must be passed as a \"sequence\" type such as list or tuple. Support for non-sequence iterables such as generators is deprecated as of NumPy 1.16 and will raise an error in the future.\n",
      "  result = np.vstack(result)\n"
     ]
    },
    {
     "name": "stdout",
     "output_type": "stream",
     "text": [
      "('training time taken: ', 2.0, 'seconds')\n"
     ]
    }
   ],
   "source": [
    "# ML-kNN (Multi-Label k-Nearest-Neighbors)\n",
    "start=time.time()\n",
    "\n",
    "classifier = MLkNN(k=12)\n",
    "classifier.fit(X, y)\n",
    "\n",
    "print('training time taken: ',round(time.time()-start,0),'seconds')"
   ]
  },
  {
   "cell_type": "code",
   "execution_count": 7,
   "metadata": {},
   "outputs": [
    {
     "name": "stdout",
     "output_type": "stream",
     "text": [
      "('prediction time taken: ', 1.0, 'seconds')\n"
     ]
    }
   ],
   "source": [
    "# Aplicando o método no conjunto de teste\n",
    "start=time.time()\n",
    "y_hat=classifier.predict(Xt)\n",
    "print('prediction time taken: ',round(time.time()-start,0),'seconds')"
   ]
  },
  {
   "cell_type": "code",
   "execution_count": 8,
   "metadata": {},
   "outputs": [
    {
     "name": "stdout",
     "output_type": "stream",
     "text": [
      "('Label Powerset F1-score:', 0.625)\n",
      "('Label Powerset Hamming Loss:', 0.204)\n"
     ]
    }
   ],
   "source": [
    "# Avaliando o método\n",
    "lp_f1=metrics.f1_score(yt, y_hat, average='micro')\n",
    "lp_hamm=metrics.hamming_loss(yt,y_hat)\n",
    "print('Label Powerset F1-score:',round(lp_f1,3))\n",
    "print('Label Powerset Hamming Loss:',round(lp_hamm,3))"
   ]
  },
  {
   "cell_type": "code",
   "execution_count": 9,
   "metadata": {},
   "outputs": [
    {
     "name": "stdout",
     "output_type": "stream",
     "text": [
      "('training time taken: ', 0.0, 'seconds')\n",
      "('prediction time taken: ', 3.0, 'seconds')\n",
      "('Label Powerset F1-score:', 0.618)\n",
      "('Label Powerset Hamming Loss:', 0.202)\n"
     ]
    }
   ],
   "source": [
    "from skmultilearn.problem_transform import BinaryRelevance\n",
    "\n",
    "# Transformação do problema - Label Powerset + k-nearest neighbors\n",
    "classifier2 = BinaryRelevance(\n",
    "    classifier = KNeighborsClassifier(n_neighbors=12),\n",
    "    require_dense = True\n",
    ")\n",
    "\n",
    "start=time.time()\n",
    "classifier2.fit(X, y)\n",
    "print('training time taken: ',round(time.time()-start,0),'seconds')\n",
    "\n",
    "# Aplicando no conjunto de teste\n",
    "start=time.time()\n",
    "y_hat=classifier2.predict(Xt)\n",
    "print('prediction time taken: ',round(time.time()-start,0),'seconds')\n",
    "\n",
    "# Avaliando o método\n",
    "lp_f1=metrics.f1_score(yt, y_hat, average='micro')\n",
    "lp_hamm=metrics.hamming_loss(yt,y_hat)\n",
    "print('Label Powerset F1-score:',round(lp_f1,3))\n",
    "print('Label Powerset Hamming Loss:',round(lp_hamm,3))"
   ]
  },
  {
   "cell_type": "code",
   "execution_count": null,
   "metadata": {},
   "outputs": [],
   "source": []
  }
 ],
 "metadata": {
  "kernelspec": {
   "display_name": "Python 3",
   "language": "python",
   "name": "python3"
  },
  "language_info": {
   "codemirror_mode": {
    "name": "ipython",
    "version": 2
   },
   "file_extension": ".py",
   "mimetype": "text/x-python",
   "name": "python",
   "nbconvert_exporter": "python",
   "pygments_lexer": "ipython2",
   "version": "2.7.12"
  }
 },
 "nbformat": 4,
 "nbformat_minor": 2
}
