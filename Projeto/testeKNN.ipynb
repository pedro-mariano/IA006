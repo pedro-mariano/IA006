{
 "cells": [
  {
   "cell_type": "code",
   "execution_count": 1,
   "metadata": {},
   "outputs": [],
   "source": [
    "import numpy as np\n",
    "from scipy.io import arff\n",
    "import pandas as pd\n",
    "import time\n",
    "from sklearn.metrics import hamming_loss,coverage_error,label_ranking_loss,label_ranking_average_precision_score\n",
    "from skmultilearn.adapt import MLkNN\n",
    "from scipy.special import softmax"
   ]
  },
  {
   "cell_type": "code",
   "execution_count": 2,
   "metadata": {},
   "outputs": [],
   "source": [
    "#Load dataset\n",
    "\n",
    "Natt = 14 # Numero de atributos\n",
    "data = arff.loadarff('yeast/yeast-train.arff')\n",
    "df = pd.DataFrame(data[0])\n",
    "data_train = df.to_numpy()\n",
    "X_train = data_train[:,:-Natt]\n",
    "Y_train = data_train[:,-Natt:].astype(np.int)\n",
    "\n",
    "data = arff.loadarff('yeast/yeast-test.arff')\n",
    "df = pd.DataFrame(data[0])\n",
    "data_test = df.to_numpy()\n",
    "X_test = data_test[:,:-Natt]\n",
    "Y_test = data_test[:,-Natt:].astype(np.int)\n",
    "\n",
    "# Metricas\n",
    "hl = ['Hamming loss']\n",
    "ce = ['Coverage']\n",
    "rl = ['Ranking loss']\n",
    "ap = ['Average precision']"
   ]
  },
  {
   "cell_type": "code",
   "execution_count": 3,
   "metadata": {},
   "outputs": [],
   "source": [
    "class kNN:\n",
    "\n",
    "    def __init__(self,k,X_train,X_test):\n",
    "        self.k = k\n",
    "        self.X_train = X_train\n",
    "        self.X_test = X_test\n",
    "        self.N_train = len(X_train)\n",
    "        self.N_test = len(X_test)\n",
    "    \n",
    "    def train(self):\n",
    "    \n",
    "        # Calculo das distancias\n",
    "        # dist(i,j) = distancia entre a i-esima amostra de teste e a j-esima amostra de treinamento\n",
    "        dist = np.zeros((self.N_test,self.N_train)) \n",
    "\n",
    "        for i in np.arange(self.N_test):\n",
    "            for j in np.arange(self.N_train):\n",
    "                # Distancia euclidiana\n",
    "                dist[i,j] = np.sqrt(np.sum((self.X_test[i] - self.X_train[j])**2))\n",
    "\n",
    "        self.ind_neigh = np.argsort(dist,axis=1) # indices dos vizinhos em ordem crescente de distancia\n",
    "        dist_neigh = np.array([dist[i,self.ind_neigh[i]] for i in range(self.N_test)]) # distancias ordenadas\n",
    "        self.k_dist = dist_neigh[:,:k] # distancias dos k-vizinhos mais proximos a cada amostra\n",
    "\n",
    "    def predict(self,Y_train):\n",
    "        \n",
    "        Nclasses = int(Y_train.max()) + 1\n",
    "        classes_neigh = Y_train[self.ind_neigh] # classes dos vizinhos mais proximos\n",
    "        k_classes = classes_neigh[:,:k] # classes dos k-vizinhos mais proximos a cada amostra\n",
    "\n",
    "        votes = np.zeros((self.N_test,Nclasses)) # votos das classes para cada amostra\n",
    "        pert = np.zeros(self.N_test) # pertinencia da classe escolhida\n",
    "\n",
    "        # soma de votos para cada classe\n",
    "        for c in np.arange(Nclasses):\n",
    "            votes[:,c] = votes[:,c] + ((k_classes == c)/(self.k_dist+1)).sum(axis=1) # votos ponderados pelo inverso da distancia+1\n",
    "\n",
    "        result = votes.argmax(axis=1)\n",
    "        pert = votes[:,1]/votes.sum(axis=1)\n",
    "        \n",
    "        # retorna classe com maior voto para cada amostra\n",
    "        return result, pert"
   ]
  },
  {
   "cell_type": "code",
   "execution_count": 4,
   "metadata": {},
   "outputs": [
    {
     "name": "stdout",
     "output_type": "stream",
     "text": [
      "Iniciando treinamento do classificador...\n",
      "Treinamento do classificador finalizado em 44.494593 segundos\n"
     ]
    }
   ],
   "source": [
    "# Transformacao binaria\n",
    "\n",
    "k = 12\n",
    "Nclasses = 2 #Numero de classes\n",
    "\n",
    "j = 0\n",
    "Nsamples,Nlabels = Y_test.shape\n",
    "pred = np.zeros((Nsamples,Nlabels)) # Predicoes\n",
    "proba = np.zeros((Nsamples,Nlabels)) # Pertinencias\n",
    "\n",
    "# Treinamento\n",
    "\n",
    "print('Iniciando treinamento do classificador...')\n",
    "start = time.time()\n",
    "clf = kNN(k,X_train,X_test)\n",
    "clf.train()\n",
    "end = time.time()\n",
    "print('Treinamento do classificador finalizado em %f segundos' %((end-start)))"
   ]
  },
  {
   "cell_type": "code",
   "execution_count": 5,
   "metadata": {},
   "outputs": [
    {
     "name": "stdout",
     "output_type": "stream",
     "text": [
      "Transformacao binaria:\n",
      "('Hamming loss: ', 0.20236797008879887)\n",
      "('Coverage error: ', 7.609596510359869)\n",
      "('Ranking Loss: ', 0.18295979024869818)\n",
      "('Label Ranking Average Precision: ', 0.7586383799661772)\n"
     ]
    }
   ],
   "source": [
    "# Predicoes\n",
    "\n",
    "for j in np.arange(Nlabels):\n",
    "    \n",
    "    pred[:,j],proba[:,j] = clf.predict(Y_train[:,j])\n",
    "    \n",
    "hl.append(hamming_loss(Y_test,pred))\n",
    "ce.append(coverage_error(Y_test,proba))\n",
    "rl.append(label_ranking_loss(Y_test,proba))\n",
    "ap.append(label_ranking_average_precision_score(Y_test,proba))\n",
    "print 'Transformacao binaria:'\n",
    "print ('Hamming loss: ', hl[-1])\n",
    "print ('Coverage error: ', ce[-1])\n",
    "print ('Ranking Loss: ', rl[-1])\n",
    "print ('Label Ranking Average Precision: ', ap[-1])"
   ]
  },
  {
   "cell_type": "code",
   "execution_count": 6,
   "metadata": {},
   "outputs": [],
   "source": [
    "class MLkNN:\n",
    "\n",
    "    def __init__(self,k,s=1.0,smax=False):\n",
    "        self.k = k\n",
    "        self.s = s\n",
    "        self.smax = smax\n",
    "        \n",
    "    def fit(self,X_train,Y_train):\n",
    "        \n",
    "        N_train,N_labels = Y_train.shape\n",
    "        \n",
    "        # Calculo das probabilidades a priori\n",
    "        prior_proba = np.zeros((2,N_labels))\n",
    "        \n",
    "        for l in np.arange(N_labels):\n",
    "            prior_proba[1,l] = (self.s + sum(Y_train[:,l]))/(self.s*2+N_train)\n",
    "            prior_proba[0,l] = 1 - prior_proba[1,l]\n",
    "            \n",
    "        # Calculo das probabilidades a posteriori\n",
    "        \n",
    "        cond_proba = np.zeros((2,self.k+1,N_labels))\n",
    "        \n",
    "        # Calculo das distancias\n",
    "        # dist(i,j) = distancia entre a i-esima amostra de teste e a j-esima amostra de treinamento\n",
    "        #dist = np.zeros((N_train,N_train))       ## Considera o elemento como vizinho a ele mesmo\n",
    "        dist = np.ones((N_train,N_train))*np.Inf  ## Desconsidera o  elemento como vizinho a ele mesmo\n",
    "\n",
    "        for i in np.arange(N_train):\n",
    "            for j in np.arange(i+1,N_train):\n",
    "                # Distancia euclidiana\n",
    "                dist[i,j] = np.sqrt(np.sum((X_train[i] - X_train[j])**2))\n",
    "                dist[j,i] = dist[i,j]\n",
    "\n",
    "        ind_neigh = np.argsort(dist,axis=1)[:,:self.k] # indices dos k vizinhos em ordem crescente de distancia\n",
    "        \n",
    "        for l in np.arange(N_labels):\n",
    "            \n",
    "            c = np.zeros((2,self.k+1))\n",
    "            \n",
    "            for i in np.arange(N_train):\n",
    "                delta = sum(Y_train[ind_neigh[i],l])\n",
    "                if(Y_train[i,l] == 1):\n",
    "                    c[1,delta] = c[1,delta] + 1\n",
    "                else:\n",
    "                    c[0,delta] = c[0,delta] + 1\n",
    "            \n",
    "            if(self.smax == True):\n",
    "                c = softmax(c,axis=1)\n",
    "            \n",
    "            for j in np.arange(self.k+1):\n",
    "                cond_proba[1,j,l] = (self.s + c[1,j])/(self.s*(self.k+1) + sum(c[1,:]))\n",
    "                cond_proba[0,j,l] = (self.s + c[0,j])/(self.s*(self.k+1) + sum(c[0,:]))\n",
    "                \n",
    "        self.X_train = X_train\n",
    "        self.Y_train = Y_train\n",
    "        self.N_labels = N_labels\n",
    "        self.prior_proba = prior_proba\n",
    "        self.cond_proba = cond_proba\n",
    "            \n",
    "    def predict(self,X_test):\n",
    "        \n",
    "        X_train = self.X_train\n",
    "        Y_train = self.Y_train\n",
    "        N_labels = self.N_labels\n",
    "        N_train = X_train.shape[0]\n",
    "        N_test = X_test.shape[0]\n",
    "        \n",
    "        Y_test = np.zeros((N_test,N_labels))\n",
    "        post_proba = np.zeros((N_test,N_labels))\n",
    "        \n",
    "        prior_proba = self.prior_proba\n",
    "        cond_proba = self.cond_proba\n",
    "        \n",
    "         # Calculo das distancias\n",
    "        # dist(i,j) = distancia entre a i-esima amostra de teste e a j-esima amostra de treinamento\n",
    "        dist = np.zeros((N_test,N_train))\n",
    "\n",
    "        for i in np.arange(N_test):\n",
    "            for j in np.arange(N_train):\n",
    "                # Distancia euclidiana\n",
    "                dist[i,j] = np.sqrt(np.sum((X_test[i] - X_train[j])**2))\n",
    "\n",
    "        ind_neigh = np.argsort(dist,axis=1)[:,:self.k] # indices dos k vizinhos em ordem crescente de distancia\n",
    "        \n",
    "        for t in np.arange(N_test):\n",
    "            \n",
    "            for l in np.arange(N_labels):\n",
    "                c = sum(Y_train[ind_neigh[t],l])\n",
    "                proba_1 = prior_proba[1,l]*cond_proba[1,c,l]\n",
    "                proba_0 = prior_proba[0,l]*cond_proba[0,c,l]\n",
    "                if(proba_1 > proba_0):\n",
    "                    Y_test[t,l] = 1\n",
    "                post_proba[t,l] = proba_1/(proba_1+proba_0)\n",
    "        \n",
    "        return Y_test,post_proba"
   ]
  },
  {
   "cell_type": "code",
   "execution_count": 7,
   "metadata": {},
   "outputs": [],
   "source": [
    "#ML-kNN implementado\n",
    "\n",
    "k = 12\n",
    "clf = MLkNN(k)\n",
    "clf.fit(X_train,Y_train)\n",
    "pred,proba = clf.predict(X_test)"
   ]
  },
  {
   "cell_type": "code",
   "execution_count": 8,
   "metadata": {},
   "outputs": [
    {
     "name": "stdout",
     "output_type": "stream",
     "text": [
      "ML-kNN implementado:\n",
      "('Hamming loss: ', 0.19621436360803862)\n",
      "('Coverage error: ', 7.408942202835332)\n",
      "('Ranking Loss: ', 0.17260819856434437)\n",
      "('Label Ranking Average Precision: ', 0.758828760331851)\n"
     ]
    }
   ],
   "source": [
    "hl.append(hamming_loss(Y_test,pred))\n",
    "ce.append(coverage_error(Y_test,proba))\n",
    "rl.append(label_ranking_loss(Y_test,proba))\n",
    "ap.append(label_ranking_average_precision_score(Y_test,proba))\n",
    "print 'ML-kNN implementado:'\n",
    "print ('Hamming loss: ', hl[-1])\n",
    "print ('Coverage error: ', ce[-1])\n",
    "print ('Ranking Loss: ', rl[-1])\n",
    "print ('Label Ranking Average Precision: ', ap[-1])"
   ]
  },
  {
   "cell_type": "code",
   "execution_count": 9,
   "metadata": {},
   "outputs": [],
   "source": [
    "#ML-kNN com softmax\n",
    "\n",
    "k = 12\n",
    "clf = MLkNN(k,smax=True)\n",
    "clf.fit(X_train,Y_train)\n",
    "pred,proba = clf.predict(X_test)"
   ]
  },
  {
   "cell_type": "code",
   "execution_count": 10,
   "metadata": {},
   "outputs": [
    {
     "name": "stdout",
     "output_type": "stream",
     "text": [
      "ML-kNN com softmax:\n",
      "('Hamming loss: ', 0.22410032715376227)\n",
      "('Coverage error: ', 7.79062159214831)\n",
      "('Ranking Loss: ', 0.20029567116340757)\n",
      "('Label Ranking Average Precision: ', 0.718858481170692)\n"
     ]
    }
   ],
   "source": [
    "hl.append(hamming_loss(Y_test,pred))\n",
    "ce.append(coverage_error(Y_test,proba))\n",
    "rl.append(label_ranking_loss(Y_test,proba))\n",
    "ap.append(label_ranking_average_precision_score(Y_test,proba))\n",
    "print 'ML-kNN com softmax:'\n",
    "print ('Hamming loss: ', hl[-1])\n",
    "print ('Coverage error: ', ce[-1])\n",
    "print ('Ranking Loss: ', rl[-1])\n",
    "print ('Label Ranking Average Precision: ', ap[-1])"
   ]
  },
  {
   "cell_type": "code",
   "execution_count": 17,
   "metadata": {},
   "outputs": [
    {
     "ename": "AttributeError",
     "evalue": "MLkNN instance has no attribute 'predict_proba'",
     "output_type": "error",
     "traceback": [
      "\u001b[0;31m---------------------------------------------------------------------------\u001b[0m",
      "\u001b[0;31mAttributeError\u001b[0m                            Traceback (most recent call last)",
      "\u001b[0;32m<ipython-input-17-4afbda283121>\u001b[0m in \u001b[0;36m<module>\u001b[0;34m()\u001b[0m\n\u001b[1;32m      8\u001b[0m \u001b[0;31m# predict\u001b[0m\u001b[0;34m\u001b[0m\u001b[0;34m\u001b[0m\u001b[0m\n\u001b[1;32m      9\u001b[0m \u001b[0mpred\u001b[0m \u001b[0;34m=\u001b[0m \u001b[0mclassifier\u001b[0m\u001b[0;34m.\u001b[0m\u001b[0mpredict\u001b[0m\u001b[0;34m(\u001b[0m\u001b[0mX_test\u001b[0m\u001b[0;34m)\u001b[0m\u001b[0;34m\u001b[0m\u001b[0m\n\u001b[0;32m---> 10\u001b[0;31m \u001b[0mproba\u001b[0m \u001b[0;34m=\u001b[0m \u001b[0mclassifier\u001b[0m\u001b[0;34m.\u001b[0m\u001b[0mpredict_proba\u001b[0m\u001b[0;34m(\u001b[0m\u001b[0mX_test\u001b[0m\u001b[0;34m)\u001b[0m\u001b[0;34m\u001b[0m\u001b[0m\n\u001b[0m\u001b[1;32m     11\u001b[0m \u001b[0;34m\u001b[0m\u001b[0m\n\u001b[1;32m     12\u001b[0m \u001b[0mhl\u001b[0m\u001b[0;34m.\u001b[0m\u001b[0mappend\u001b[0m\u001b[0;34m(\u001b[0m\u001b[0mhamming_loss\u001b[0m\u001b[0;34m(\u001b[0m\u001b[0mY_test\u001b[0m\u001b[0;34m,\u001b[0m\u001b[0mpred\u001b[0m\u001b[0;34m)\u001b[0m\u001b[0;34m)\u001b[0m\u001b[0;34m\u001b[0m\u001b[0m\n",
      "\u001b[0;31mAttributeError\u001b[0m: MLkNN instance has no attribute 'predict_proba'"
     ]
    }
   ],
   "source": [
    "#ML-kNN scikit\n",
    "\n",
    "classifier = MLkNN(k=12)\n",
    "\n",
    "# train\n",
    "classifier.fit(X_train, Y_train)\n",
    "\n",
    "# predict\n",
    "pred = classifier.predict(X_test)\n",
    "proba = classifier.predict_proba(X_test)\n",
    "\n",
    "hl.append(hamming_loss(Y_test,pred))\n",
    "ce.append(coverage_error(Y_test,proba))\n",
    "rl.append(label_ranking_loss(Y_test,proba))\n",
    "ap.append(label_ranking_average_precision_score(Y_test,proba))\n",
    "print 'ML-kNN scikit:'\n",
    "print ('Hamming loss: ', hl[-1])\n",
    "print ('Coverage error: ', ce[-1])\n",
    "print ('Ranking Loss: ', rl[-1])\n",
    "print ('Label Ranking Average Precision: ', ap[-1])"
   ]
  }
 ],
 "metadata": {
  "kernelspec": {
   "display_name": "Python 2",
   "language": "python",
   "name": "python2"
  },
  "language_info": {
   "codemirror_mode": {
    "name": "ipython",
    "version": 2
   },
   "file_extension": ".py",
   "mimetype": "text/x-python",
   "name": "python",
   "nbconvert_exporter": "python",
   "pygments_lexer": "ipython2",
   "version": "2.7.16"
  }
 },
 "nbformat": 4,
 "nbformat_minor": 2
}
