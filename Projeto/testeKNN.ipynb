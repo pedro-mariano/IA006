{
 "cells": [
  {
   "cell_type": "code",
   "execution_count": 1,
   "metadata": {},
   "outputs": [],
   "source": [
    "import numpy as np\n",
    "from scipy.io import arff\n",
    "import pandas as pd\n",
    "import time"
   ]
  },
  {
   "cell_type": "code",
   "execution_count": 2,
   "metadata": {},
   "outputs": [],
   "source": [
    "#Load dataset\n",
    "\n",
    "Natt = 14 # Numero de atributos\n",
    "data = arff.loadarff('yeast/yeast-train.arff')\n",
    "df = pd.DataFrame(data[0])\n",
    "data_train = df.to_numpy()\n",
    "X_train = data_train[:,:-Natt]\n",
    "Y_train = data_train[:,-Natt:].astype(np.int)\n",
    "\n",
    "data = arff.loadarff('yeast/yeast-test.arff')\n",
    "df = pd.DataFrame(data[0])\n",
    "data_test = df.to_numpy()\n",
    "X_test = data_test[:,:-Natt]\n",
    "Y_test = data_test[:,-Natt:].astype(np.int)"
   ]
  },
  {
   "cell_type": "code",
   "execution_count": 8,
   "metadata": {},
   "outputs": [],
   "source": [
    "class kNN:\n",
    "\n",
    "    def __init__(self,k,X_train,X_test):\n",
    "        self.k = k\n",
    "        self.X_train = X_train\n",
    "        self.X_test = X_test\n",
    "        self.N_train = len(X_train)\n",
    "        self.N_test = len(X_test)\n",
    "    \n",
    "    def train(self):\n",
    "    \n",
    "        # Calculo das distancias\n",
    "        # dist(i,j) = distancia entre a i-esima amostra de teste e a j-esima amostra de treinamento\n",
    "        dist = np.zeros((self.N_test,self.N_train)) \n",
    "\n",
    "        for i in np.arange(self.N_test):\n",
    "            for j in np.arange(self.N_train):\n",
    "                # Distancia euclidiana\n",
    "                dist[i,j] = np.sqrt(np.sum((self.X_test[i] - self.X_train[j])**2))\n",
    "\n",
    "        self.ind_neigh = np.argsort(dist,axis=1) # indices dos vizinhos em ordem crescente de distancia\n",
    "        dist_neigh = np.array([dist[i,self.ind_neigh[i]] for i in range(self.N_test)]) # distancias ordenadas\n",
    "        self.k_dist = dist_neigh[:,:k] # distancias dos k-vizinhos mais proximos a cada amostra\n",
    "\n",
    "    def predict(self,Y_train):\n",
    "        \n",
    "        Nclasses = int(Y_train.max()) + 1\n",
    "        classes_neigh = Y_train[self.ind_neigh] # classes dos vizinhos mais proximos\n",
    "        k_classes = classes_neigh[:,:k] # classes dos k-vizinhos mais proximos a cada amostra\n",
    "\n",
    "        votes = np.zeros((self.N_test,Nclasses)) # votos das classes para cada amostra\n",
    "\n",
    "        # soma de votos para cada classe\n",
    "        for c in np.arange(Nclasses):\n",
    "            votes[:,c] = votes[:,c] + ((k_classes == c)/(self.k_dist+1)).sum(axis=1) # votos ponderados pelo inverso da distancia+1\n",
    "\n",
    "        # retorna classe com maior voto para cada amostra\n",
    "        return votes.argmax(axis=1)"
   ]
  },
  {
   "cell_type": "code",
   "execution_count": 4,
   "metadata": {},
   "outputs": [],
   "source": [
    "def eval_MLL(pred,Y_test):\n",
    "    \n",
    "    Nsamples,Nlabels = Y_test.shape\n",
    "    hl = np.sum(abs(Y_test - pred))/(Nsamples*Nlabels)\n",
    "    acc = (Y_test*pred).sum()/((np.logical_or(Y_test,pred)).sum())\n",
    "    prec = (Y_test*pred).sum()/(pred.sum())\n",
    "    recall = (Y_test*pred).sum()/(Y_test.sum())\n",
    "    f1 = 2*prec*recall/(prec+recall)\n",
    "    \n",
    "    return hl,acc,prec,recall,f1"
   ]
  },
  {
   "cell_type": "code",
   "execution_count": 9,
   "metadata": {},
   "outputs": [
    {
     "name": "stdout",
     "output_type": "stream",
     "text": [
      "Iniciando treinamento do classificador...\n",
      "Treinamento do classificador finalizado em 29.495472 segundos\n"
     ]
    }
   ],
   "source": [
    "k = 12\n",
    "Nclasses = 2 #Numero de classes\n",
    "\n",
    "j = 0\n",
    "Nsamples,Nlabels = Y_test.shape\n",
    "pred = np.zeros((Nsamples,Nlabels))\n",
    "\n",
    "# Treinamento\n",
    "\n",
    "print('Iniciando treinamento do classificador...')\n",
    "start = time.time()\n",
    "clf = kNN(k,X_train,X_test)\n",
    "clf.train()\n",
    "end = time.time()\n",
    "print('Treinamento do classificador finalizado em %f segundos' %((end-start)))"
   ]
  },
  {
   "cell_type": "code",
   "execution_count": 10,
   "metadata": {},
   "outputs": [
    {
     "name": "stdout",
     "output_type": "stream",
     "text": [
      "Hamming Loss = 0.202368, F1 = 0.635930\n"
     ]
    }
   ],
   "source": [
    "# Predicoes\n",
    "\n",
    "for j in np.arange(Nlabels):\n",
    "    \n",
    "    pred[:,j] = clf.predict(Y_train[:,j])\n",
    "    \n",
    "hl,acc,prec,recall,f1 = eval_MLL(pred,Y_test)\n",
    "\n",
    "print ('Hamming Loss = %f, F1 = %f' %(hl,f1))"
   ]
  }
 ],
 "metadata": {
  "kernelspec": {
   "display_name": "Python 3",
   "language": "python",
   "name": "python3"
  },
  "language_info": {
   "codemirror_mode": {
    "name": "ipython",
    "version": 2
   },
   "file_extension": ".py",
   "mimetype": "text/x-python",
   "name": "python",
   "nbconvert_exporter": "python",
   "pygments_lexer": "ipython2",
   "version": "2.7.12"
  }
 },
 "nbformat": 4,
 "nbformat_minor": 2
}
