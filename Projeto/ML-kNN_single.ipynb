{
 "cells": [
  {
   "cell_type": "code",
   "execution_count": 1,
   "metadata": {},
   "outputs": [],
   "source": [
    "import numpy as np\n",
    "from scipy.io import arff\n",
    "import pandas as pd\n",
    "import time\n",
    "import skmultilearn.adapt as skmad\n",
    "from skmultilearn.dataset import load_dataset\n",
    "from skmultilearn.problem_transform import BinaryRelevance\n",
    "from sklearn.metrics import hamming_loss,coverage_error,label_ranking_loss,label_ranking_average_precision_score\n",
    "from scipy.special import softmax\n",
    "from sklearn.model_selection import KFold\n",
    "from sklearn.neighbors import KNeighborsClassifier"
   ]
  },
  {
   "cell_type": "code",
   "execution_count": 2,
   "metadata": {},
   "outputs": [
    {
     "name": "stdout",
     "output_type": "stream",
     "text": [
      "yeast:undivided - exists, not redownloading\n",
      "yeast:train - exists, not redownloading\n",
      "yeast:test - exists, not redownloading\n"
     ]
    }
   ],
   "source": [
    "#Load dataset\n",
    "\n",
    "X, Y, feature_names, label_names = load_dataset('yeast', 'undivided')\n",
    "X_train, Y_train, feature_names, label_names = load_dataset('yeast', 'train')\n",
    "X_test, Y_test, feature_names, label_names = load_dataset('yeast', 'test')\n",
    "X = X.toarray()\n",
    "Y = Y.toarray()\n",
    "X_train = X_train.toarray()\n",
    "Y_train = Y_train.toarray()\n",
    "X_test = X_test.toarray()\n",
    "Y_test = Y_test.toarray()\n",
    "\n",
    "classifiers = []\n",
    "metrics = ['Hamming loss','Coverage','Ranking loss','Average precision']\n",
    "hl=[]\n",
    "ce=[]\n",
    "rl=[]\n",
    "ap=[]\n",
    "\n",
    "nfolds = 10 # Numero de k-folds\n",
    "kf = KFold(n_splits=nfolds)"
   ]
  },
  {
   "cell_type": "code",
   "execution_count": 3,
   "metadata": {},
   "outputs": [],
   "source": [
    "class kNN:\n",
    "\n",
    "    def __init__(self,k,X_train,X_test):\n",
    "        self.k = k\n",
    "        self.X_train = X_train\n",
    "        self.X_test = X_test\n",
    "        self.N_train = len(X_train)\n",
    "        self.N_test = len(X_test)\n",
    "    \n",
    "    def train(self):\n",
    "    \n",
    "        # Calculo das distancias\n",
    "        # dist(i,j) = distancia entre a i-esima amostra de teste e a j-esima amostra de treinamento\n",
    "        dist = np.zeros((self.N_test,self.N_train)) \n",
    "\n",
    "        for i in np.arange(self.N_test):\n",
    "            for j in np.arange(self.N_train):\n",
    "                # Distancia euclidiana\n",
    "                dist[i,j] = np.sqrt(np.sum((self.X_test[i] - self.X_train[j])**2))\n",
    "\n",
    "        self.ind_neigh = np.argsort(dist,axis=1) # indices dos vizinhos em ordem crescente de distancia\n",
    "        dist_neigh = np.array([dist[i,self.ind_neigh[i]] for i in range(self.N_test)]) # distancias ordenadas\n",
    "        self.k_dist = dist_neigh[:,:k] # distancias dos k-vizinhos mais proximos a cada amostra\n",
    "\n",
    "    def predict(self,Y_train):\n",
    "        \n",
    "        Nclasses = int(Y_train.max()) + 1\n",
    "        classes_neigh = Y_train[self.ind_neigh] # classes dos vizinhos mais proximos\n",
    "        k_classes = classes_neigh[:,:k] # classes dos k-vizinhos mais proximos a cada amostra\n",
    "\n",
    "        votes = np.zeros((self.N_test,Nclasses)) # votos das classes para cada amostra\n",
    "        pert = np.zeros(self.N_test) # pertinencia da classe escolhida\n",
    "\n",
    "        # soma de votos para cada classe\n",
    "        for c in np.arange(Nclasses):\n",
    "            votes[:,c] = votes[:,c] + ((k_classes == c)/(self.k_dist+1)).sum(axis=1) # votos ponderados pelo inverso da distancia+1\n",
    "\n",
    "        result = votes.argmax(axis=1)\n",
    "        pert = votes[:,1]/votes.sum(axis=1)\n",
    "        \n",
    "        # retorna classe com maior voto para cada amostra\n",
    "        return result, pert"
   ]
  },
  {
   "cell_type": "code",
   "execution_count": 4,
   "metadata": {},
   "outputs": [
    {
     "name": "stdout",
     "output_type": "stream",
     "text": [
      "Iniciando treinamento do classificador...\n",
      "Treinamento do classificador finalizado em 8.422988 segundos\n"
     ]
    }
   ],
   "source": [
    "# Transformacao binaria\n",
    "\n",
    "k = 12\n",
    "Nclasses = 2 #Numero de classes\n",
    "\n",
    "j = 0\n",
    "Nsamples,Nlabels = Y_test.shape\n",
    "pred = np.zeros((Nsamples,Nlabels)) # Predicoes\n",
    "proba = np.zeros((Nsamples,Nlabels)) # Pertinencias\n",
    "\n",
    "# Treinamento\n",
    "\n",
    "print('Iniciando treinamento do classificador...')\n",
    "start = time.time()\n",
    "clf = kNN(k,X_train,X_test)\n",
    "clf.train()\n",
    "end = time.time()\n",
    "print('Treinamento do classificador finalizado em %f segundos' %((end-start)))"
   ]
  },
  {
   "cell_type": "code",
   "execution_count": 5,
   "metadata": {},
   "outputs": [
    {
     "name": "stdout",
     "output_type": "stream",
     "text": [
      "Transformacao binaria:\n",
      "('Hamming loss: ', 0.20236797008879887)\n",
      "('Coverage error: ', 7.609596510359869)\n",
      "('Ranking Loss: ', 0.18295979024869818)\n",
      "('Label Ranking Average Precision: ', 0.7586383799661772)\n"
     ]
    }
   ],
   "source": [
    "# Predicoes\n",
    "\n",
    "for j in np.arange(Nlabels):\n",
    "    \n",
    "    pred[:,j],proba[:,j] = clf.predict(Y_train[:,j])\n",
    "    \n",
    "classifiers.append('Binario')\n",
    "hl.append(hamming_loss(Y_test,pred))\n",
    "ce.append(coverage_error(Y_test,proba))\n",
    "rl.append(label_ranking_loss(Y_test,proba))\n",
    "ap.append(label_ranking_average_precision_score(Y_test,proba))\n",
    "print 'Transformacao binaria:'\n",
    "print ('Hamming loss: ', hl[-1])\n",
    "print ('Coverage error: ', ce[-1])\n",
    "print ('Ranking Loss: ', rl[-1])\n",
    "print ('Label Ranking Average Precision: ', ap[-1])"
   ]
  },
  {
   "cell_type": "code",
   "execution_count": 6,
   "metadata": {},
   "outputs": [],
   "source": [
    "class MLkNN:\n",
    "\n",
    "    def __init__(self,k,s=1.0,smax=False):\n",
    "        self.k = k\n",
    "        self.s = s\n",
    "        self.smax = smax\n",
    "        \n",
    "    def fit(self,X_train,Y_train):\n",
    "        \n",
    "        N_train,N_labels = Y_train.shape\n",
    "        \n",
    "        # Calculo das probabilidades a priori\n",
    "        prior_proba = np.zeros((2,N_labels))\n",
    "        \n",
    "        for l in np.arange(N_labels):\n",
    "            prior_proba[1,l] = (self.s + sum(Y_train[:,l]))/(self.s*2+N_train)\n",
    "            prior_proba[0,l] = 1 - prior_proba[1,l]\n",
    "            \n",
    "        # Calculo das probabilidades a posteriori\n",
    "        \n",
    "        cond_proba = np.zeros((2,self.k+1,N_labels))\n",
    "        \n",
    "        # Calculo das distancias\n",
    "        # dist(i,j) = distancia entre a i-esima amostra de teste e a j-esima amostra de treinamento\n",
    "        #dist = np.zeros((N_train,N_train))       ## Considera o elemento como vizinho a ele mesmo\n",
    "        dist = np.ones((N_train,N_train))*np.Inf  ## Desconsidera o  elemento como vizinho a ele mesmo\n",
    "\n",
    "        for i in np.arange(N_train):\n",
    "            for j in np.arange(i+1,N_train):\n",
    "                # Distancia euclidiana\n",
    "                dist[i,j] = np.sqrt(np.sum((X_train[i] - X_train[j])**2))\n",
    "                dist[j,i] = dist[i,j]\n",
    "\n",
    "        ind_neigh = np.argsort(dist,axis=1)[:,:self.k] # indices dos k vizinhos em ordem crescente de distancia\n",
    "        \n",
    "        for l in np.arange(N_labels):\n",
    "            \n",
    "            c = np.zeros((2,self.k+1))\n",
    "            \n",
    "            for i in np.arange(N_train):\n",
    "                delta = sum(Y_train[ind_neigh[i],l])\n",
    "                if(Y_train[i,l] == 1):\n",
    "                    c[1,delta] = c[1,delta] + 1\n",
    "                else:\n",
    "                    c[0,delta] = c[0,delta] + 1\n",
    "            \n",
    "            if(self.smax == True):\n",
    "                c = softmax(c,axis=1)\n",
    "            \n",
    "            for j in np.arange(self.k+1):\n",
    "                cond_proba[1,j,l] = (self.s + c[1,j])/(self.s*(self.k+1) + sum(c[1,:]))\n",
    "                cond_proba[0,j,l] = (self.s + c[0,j])/(self.s*(self.k+1) + sum(c[0,:]))\n",
    "                \n",
    "        self.X_train = X_train\n",
    "        self.Y_train = Y_train\n",
    "        self.N_labels = N_labels\n",
    "        self.prior_proba = prior_proba\n",
    "        self.cond_proba = cond_proba\n",
    "            \n",
    "    def predict(self,X_test):\n",
    "        \n",
    "        X_train = self.X_train\n",
    "        Y_train = self.Y_train\n",
    "        N_labels = self.N_labels\n",
    "        N_train = X_train.shape[0]\n",
    "        N_test = X_test.shape[0]\n",
    "        \n",
    "        Y_test = np.zeros((N_test,N_labels))\n",
    "        post_proba = np.zeros((N_test,N_labels))\n",
    "        \n",
    "        prior_proba = self.prior_proba\n",
    "        cond_proba = self.cond_proba\n",
    "        \n",
    "         # Calculo das distancias\n",
    "        # dist(i,j) = distancia entre a i-esima amostra de teste e a j-esima amostra de treinamento\n",
    "        dist = np.zeros((N_test,N_train))\n",
    "\n",
    "        for i in np.arange(N_test):\n",
    "            for j in np.arange(N_train):\n",
    "                # Distancia euclidiana\n",
    "                dist[i,j] = np.sqrt(np.sum((X_test[i] - X_train[j])**2))\n",
    "\n",
    "        ind_neigh = np.argsort(dist,axis=1)[:,:self.k] # indices dos k vizinhos em ordem crescente de distancia\n",
    "        \n",
    "        for t in np.arange(N_test):\n",
    "            \n",
    "            for l in np.arange(N_labels):\n",
    "                c = sum(Y_train[ind_neigh[t],l])\n",
    "                proba_1 = prior_proba[1,l]*cond_proba[1,c,l]\n",
    "                proba_0 = prior_proba[0,l]*cond_proba[0,c,l]\n",
    "                if(proba_1 > proba_0):\n",
    "                    Y_test[t,l] = 1\n",
    "                post_proba[t,l] = proba_1/(proba_1+proba_0)\n",
    "        \n",
    "        return Y_test,post_proba"
   ]
  },
  {
   "cell_type": "code",
   "execution_count": 7,
   "metadata": {},
   "outputs": [],
   "source": [
    "#ML-kNN implementado\n",
    "\n",
    "k = 12\n",
    "clf = MLkNN(k)\n",
    "clf.fit(X_train,Y_train)\n",
    "pred,proba = clf.predict(X_test)"
   ]
  },
  {
   "cell_type": "code",
   "execution_count": 8,
   "metadata": {},
   "outputs": [
    {
     "name": "stdout",
     "output_type": "stream",
     "text": [
      "ML-kNN implementado:\n",
      "('Hamming loss: ', 0.19621436360803862)\n",
      "('Coverage error: ', 7.408942202835332)\n",
      "('Ranking Loss: ', 0.17260819856434437)\n",
      "('Label Ranking Average Precision: ', 0.758828760331851)\n"
     ]
    }
   ],
   "source": [
    "classifiers.append('ML-kNN')\n",
    "hl.append(hamming_loss(Y_test,pred))\n",
    "ce.append(coverage_error(Y_test,proba))\n",
    "rl.append(label_ranking_loss(Y_test,proba))\n",
    "ap.append(label_ranking_average_precision_score(Y_test,proba))\n",
    "\n",
    "print 'ML-kNN implementado:'\n",
    "print ('Hamming loss: ', hl[-1])\n",
    "print ('Coverage error: ', ce[-1])\n",
    "print ('Ranking Loss: ', rl[-1])\n",
    "print ('Label Ranking Average Precision: ', ap[-1])"
   ]
  },
  {
   "cell_type": "code",
   "execution_count": 9,
   "metadata": {},
   "outputs": [],
   "source": [
    "#ML-kNN com softmax\n",
    "\n",
    "k = 12\n",
    "clf = MLkNN(k,smax=True)\n",
    "clf.fit(X_train,Y_train)\n",
    "pred,proba = clf.predict(X_test)"
   ]
  },
  {
   "cell_type": "code",
   "execution_count": 10,
   "metadata": {
    "scrolled": true
   },
   "outputs": [
    {
     "name": "stdout",
     "output_type": "stream",
     "text": [
      "ML-kNN com softmax:\n",
      "('Hamming loss: ', 0.22410032715376227)\n",
      "('Coverage error: ', 7.79062159214831)\n",
      "('Ranking Loss: ', 0.20029567116340757)\n",
      "('Label Ranking Average Precision: ', 0.718858481170692)\n"
     ]
    }
   ],
   "source": [
    "classifiers.append('ML-kNN c/ softmax')\n",
    "hl.append(hamming_loss(Y_test,pred))\n",
    "ce.append(coverage_error(Y_test,proba))\n",
    "rl.append(label_ranking_loss(Y_test,proba))\n",
    "ap.append(label_ranking_average_precision_score(Y_test,proba))\n",
    "\n",
    "print 'ML-kNN com softmax:'\n",
    "print ('Hamming loss: ', hl[-1])\n",
    "print ('Coverage error: ', ce[-1])\n",
    "print ('Ranking Loss: ', rl[-1])\n",
    "print ('Label Ranking Average Precision: ', ap[-1])"
   ]
  },
  {
   "cell_type": "code",
   "execution_count": 3,
   "metadata": {},
   "outputs": [
    {
     "name": "stdout",
     "output_type": "stream",
     "text": [
      "ML-kNN scikit:\n",
      "('Hamming loss: ', 0.20065430752453653)\n",
      "('Coverage error: ', 9.236641221374045)\n",
      "('Ranking Loss: ', 0.25423586773096046)\n",
      "('Label Ranking Average Precision: ', 0.6822043006943637)\n"
     ]
    }
   ],
   "source": [
    "#ML-kNN scikit\n",
    "\n",
    "classifier = skmad.MLkNN(k=12,ignore_first_neighbours=1)\n",
    "\n",
    "# train\n",
    "classifier.fit(X_train, Y_train)\n",
    "\n",
    "# predict\n",
    "pred = classifier.predict(X_test)\n",
    "proba = classifier.predict_proba(X_test).toarray()\n",
    "\n",
    "classifiers.append('ML-kNN scikit')\n",
    "hl.append(hamming_loss(Y_test,pred))\n",
    "ce.append(coverage_error(Y_test,proba))\n",
    "rl.append(label_ranking_loss(Y_test,proba))\n",
    "ap.append(label_ranking_average_precision_score(Y_test,proba))\n",
    "\n",
    "print 'ML-kNN scikit:'\n",
    "print ('Hamming loss: ', hl[-1])\n",
    "print ('Coverage error: ', ce[-1])\n",
    "print ('Ranking Loss: ', rl[-1])\n",
    "print ('Label Ranking Average Precision: ', ap[-1])"
   ]
  },
  {
   "cell_type": "code",
   "execution_count": 14,
   "metadata": {},
   "outputs": [
    {
     "name": "stdout",
     "output_type": "stream",
     "text": [
      "Binary Relevance:\n",
      "('Hamming loss: ', 0.2024458638417199)\n",
      "('Coverage error: ', 7.99236641221374)\n",
      "('Ranking Loss: ', 0.20674631469342483)\n",
      "('Label Ranking Average Precision: ', 0.7379471226523595)\n"
     ]
    }
   ],
   "source": [
    "classifier2 = BinaryRelevance(\n",
    "    classifier = KNeighborsClassifier(n_neighbors=12)\n",
    ")\n",
    "\n",
    "# train\n",
    "classifier2.fit(X_train, Y_train)\n",
    "\n",
    "# predict\n",
    "pred = classifier2.predict(X_test)\n",
    "proba = classifier2.predict_proba(X_test).toarray()\n",
    "\n",
    "classifiers.append('Binary Relevance')\n",
    "hl.append(hamming_loss(Y_test,pred))\n",
    "ce.append(coverage_error(Y_test,proba))\n",
    "rl.append(label_ranking_loss(Y_test,proba))\n",
    "ap.append(label_ranking_average_precision_score(Y_test,proba))\n",
    "\n",
    "print 'Binary Relevance:'\n",
    "print ('Hamming loss: ', hl[-1])\n",
    "print ('Coverage error: ', ce[-1])\n",
    "print ('Ranking Loss: ', rl[-1])\n",
    "print ('Label Ranking Average Precision: ', ap[-1])"
   ]
  },
  {
   "cell_type": "code",
   "execution_count": 15,
   "metadata": {},
   "outputs": [
    {
     "data": {
      "text/html": [
       "<div>\n",
       "<style scoped>\n",
       "    .dataframe tbody tr th:only-of-type {\n",
       "        vertical-align: middle;\n",
       "    }\n",
       "\n",
       "    .dataframe tbody tr th {\n",
       "        vertical-align: top;\n",
       "    }\n",
       "\n",
       "    .dataframe thead th {\n",
       "        text-align: right;\n",
       "    }\n",
       "</style>\n",
       "<table border=\"1\" class=\"dataframe\">\n",
       "  <thead>\n",
       "    <tr style=\"text-align: right;\">\n",
       "      <th></th>\n",
       "      <th>Hamming loss</th>\n",
       "      <th>Coverage</th>\n",
       "      <th>Ranking loss</th>\n",
       "      <th>Average precision</th>\n",
       "    </tr>\n",
       "  </thead>\n",
       "  <tbody>\n",
       "    <tr>\n",
       "      <th>Binario</th>\n",
       "      <td>0.202368</td>\n",
       "      <td>7.609597</td>\n",
       "      <td>0.182960</td>\n",
       "      <td>0.758638</td>\n",
       "    </tr>\n",
       "    <tr>\n",
       "      <th>ML-kNN</th>\n",
       "      <td>0.196214</td>\n",
       "      <td>7.408942</td>\n",
       "      <td>0.172608</td>\n",
       "      <td>0.758829</td>\n",
       "    </tr>\n",
       "    <tr>\n",
       "      <th>ML-kNN c/ softmax</th>\n",
       "      <td>0.224100</td>\n",
       "      <td>7.790622</td>\n",
       "      <td>0.200296</td>\n",
       "      <td>0.718858</td>\n",
       "    </tr>\n",
       "    <tr>\n",
       "      <th>ML-kNN scikit</th>\n",
       "      <td>0.204471</td>\n",
       "      <td>8.483097</td>\n",
       "      <td>0.226324</td>\n",
       "      <td>0.700818</td>\n",
       "    </tr>\n",
       "    <tr>\n",
       "      <th>Binary Relevance</th>\n",
       "      <td>0.202446</td>\n",
       "      <td>7.992366</td>\n",
       "      <td>0.206746</td>\n",
       "      <td>0.737947</td>\n",
       "    </tr>\n",
       "  </tbody>\n",
       "</table>\n",
       "</div>"
      ],
      "text/plain": [
       "                   Hamming loss  Coverage  Ranking loss  Average precision\n",
       "Binario                0.202368  7.609597      0.182960           0.758638\n",
       "ML-kNN                 0.196214  7.408942      0.172608           0.758829\n",
       "ML-kNN c/ softmax      0.224100  7.790622      0.200296           0.718858\n",
       "ML-kNN scikit          0.204471  8.483097      0.226324           0.700818\n",
       "Binary Relevance       0.202446  7.992366      0.206746           0.737947"
      ]
     },
     "execution_count": 15,
     "metadata": {},
     "output_type": "execute_result"
    }
   ],
   "source": [
    "# Mostrar os resultados\n",
    "\n",
    "results = [hl,ce,rl,ap]\n",
    "table = dict([(metrics[i],results[i]) for i in range(4)])\n",
    "  \n",
    "# Creates pandas DataFrame. \n",
    "df = pd.DataFrame(table, columns=metrics,index=classifiers) \n",
    "  \n",
    "# print the data \n",
    "df "
   ]
  },
  {
   "cell_type": "code",
   "execution_count": 14,
   "metadata": {},
   "outputs": [],
   "source": [
    "class newMLkNN:\n",
    "\n",
    "    def __init__(self,k,thr=0.5):\n",
    "        self.k = k\n",
    "        self.thr = thr\n",
    "        \n",
    "    def fit(self,X_train,Y_train):\n",
    "        \n",
    "        N_train,N_labels = Y_train.shape    \n",
    "        self.X_train = X_train\n",
    "        self.Y_train = Y_train\n",
    "        self.N_labels = N_labels\n",
    "            \n",
    "    def predict(self,X_test):\n",
    "        \n",
    "        X_train = self.X_train\n",
    "        Y_train = self.Y_train\n",
    "        N_labels = self.N_labels\n",
    "        N_train = X_train.shape[0]\n",
    "        N_test = X_test.shape[0]\n",
    "        \n",
    "        Y_test = np.zeros((N_test,N_labels))\n",
    "        proba = np.zeros((N_test,N_labels))\n",
    "        \n",
    "         # Calculo das distancias\n",
    "        # dist(i,j) = distancia entre a i-esima amostra de teste e a j-esima amostra de treinamento\n",
    "        dist = np.zeros((N_test,N_train))\n",
    "\n",
    "        for i in np.arange(N_test):\n",
    "            for j in np.arange(N_train):\n",
    "                # Distancia euclidiana\n",
    "                dist[i,j] = np.sqrt(np.sum((X_test[i] - X_train[j])**2))\n",
    "\n",
    "        ind_neigh = np.argsort(dist,axis=1)[:,:self.k] # indices dos k vizinhos em ordem crescente de distancia\n",
    "        \n",
    "        for t in np.arange(N_test):\n",
    "            label_neigh = Y_train[ind_neigh[t]]\n",
    "            p = label_neigh.mean(axis=0)\n",
    "            max_p = max(p)\n",
    "            labels = np.where(p == max_p)\n",
    "            proba[t] = p\n",
    "            \n",
    "            while(max_p > self.thr):\n",
    "                Y_test[t,labels] = 1\n",
    "                ind = np.array([],dtype=int)\n",
    "                for l in labels:\n",
    "                    ind = np.union1d(ind,np.where(label_neigh[:,l] == 1)[0])\n",
    "                label_neigh = label_neigh[ind]\n",
    "                label_neigh[:,labels] = 0\n",
    "                p = label_neigh.mean(axis=0)\n",
    "                max_p = max(p)\n",
    "                labels = np.where(p == max_p)\n",
    "        \n",
    "        return Y_test,proba"
   ]
  },
  {
   "cell_type": "code",
   "execution_count": 15,
   "metadata": {},
   "outputs": [],
   "source": [
    "#newML-kNN implementado\n",
    "\n",
    "k = 20\n",
    "clf = newMLkNN(k,thr=0.5)\n",
    "clf.fit(X_train,Y_train)\n",
    "pred,proba = clf.predict(X_test)"
   ]
  },
  {
   "cell_type": "code",
   "execution_count": 16,
   "metadata": {},
   "outputs": [
    {
     "name": "stdout",
     "output_type": "stream",
     "text": [
      "newML-kNN implementado:\n",
      "('Hamming loss: ', 0.20906683284000624)\n",
      "('Coverage error: ', 7.7066521264994545)\n",
      "('Ranking Loss: ', 0.19105409658455302)\n",
      "('Label Ranking Average Precision: ', 0.7472088630967875)\n"
     ]
    }
   ],
   "source": [
    "classifiers.append('newML-kNN')\n",
    "hl.append(hamming_loss(Y_test,pred))\n",
    "ce.append(coverage_error(Y_test,proba))\n",
    "rl.append(label_ranking_loss(Y_test,proba))\n",
    "ap.append(label_ranking_average_precision_score(Y_test,proba))\n",
    "\n",
    "print 'newML-kNN implementado:'\n",
    "print ('Hamming loss: ', hl[-1])\n",
    "print ('Coverage error: ', ce[-1])\n",
    "print ('Ranking Loss: ', rl[-1])\n",
    "print ('Label Ranking Average Precision: ', ap[-1])"
   ]
  }
 ],
 "metadata": {
  "kernelspec": {
   "display_name": "Python 2",
   "language": "python",
   "name": "python2"
  },
  "language_info": {
   "codemirror_mode": {
    "name": "ipython",
    "version": 2
   },
   "file_extension": ".py",
   "mimetype": "text/x-python",
   "name": "python",
   "nbconvert_exporter": "python",
   "pygments_lexer": "ipython2",
   "version": "2.7.12"
  }
 },
 "nbformat": 4,
 "nbformat_minor": 2
}
